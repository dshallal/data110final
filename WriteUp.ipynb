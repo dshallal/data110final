{
 "cells": [
  {
   "cell_type": "code",
   "execution_count": 1,
   "id": "d2f1086d-03e2-4195-9543-706f9875b5fb",
   "metadata": {},
   "outputs": [
    {
     "name": "stdout",
     "output_type": "stream",
     "text": [
      "Notebook already signed: WriteUp.ipynb\n"
     ]
    }
   ],
   "source": [
    "!jupyter trust WriteUp.ipynb"
   ]
  },
  {
   "cell_type": "markdown",
   "id": "b5939f38-6598-4fd6-85c3-0a72b12c1af4",
   "metadata": {},
   "source": [
    "## <u> DATA 110 Final Project Write Up </u>\n",
    "## Group Members: Dan Shallal, Daniel Wang, Devarshi Dave, & Michael Gaines\n",
    "## Dataset: Track B Dataset: Child Mortality of 0-5 Year Olds per 1000 born"
   ]
  },
  {
   "cell_type": "markdown",
   "id": "e37b6bba-17bc-412c-8da5-b29e737d822a",
   "metadata": {},
   "source": [
    "<u> Defining the problem- </u>\n",
    "\n",
    "After choosing the track B, we <i> initially </i> reasoned that the data set could ask a vaguer question in “How do child mortality rates fluctuate between various countries and over time?”. We chose this dataset from track B because we were interested in understanding how child mortality rates differ between different countries and whether there are underlying factors that accurately predict how child mortality rates differ between countries. Disease, lack of nutrition, limited healthcare, and other internal and external issues that have plagued how children grow physically. We sincerely believe that our project can investigate the current situation of each region of the world, in terms of whether their child mortality rates have changed, in what ways the rates have changed, and how each region compares to others in order to recognize potential inequalities that need to be addressed. After our first data visualization created during the project proposal and the feedback given to our group afterwards, we decided to make our question more specific, being, \"How do countries being in different regions and time periods affect their child mortality rates?\". Our hypothesis is that time period and the region a country is in strongly correlate to mortality data and can be used to accurately predicting mortality data."
   ]
  },
  {
   "cell_type": "code",
   "execution_count": 2,
   "id": "820e3773",
   "metadata": {},
   "outputs": [
    {
     "name": "stdout",
     "output_type": "stream",
     "text": [
      "['Afghanistan', 'Angola', 'Albania', 'Andorra', 'UAE', 'Argentina', 'Armenia', 'Antigua and Barbuda', 'Australia', 'Austria', 'Azerbaijan', 'Burundi', 'Belgium', 'Benin', 'Burkina Faso', 'Bangladesh', 'Bulgaria', 'Bahrain', 'Bahamas', 'Bosnia and Herzegovina', 'Belarus', 'Belize', 'Bolivia', 'Brazil', 'Barbados', 'Brunei', 'Bhutan', 'Botswana', 'Central African Republic', 'Canada', 'Switzerland', 'Chile', 'China', \"Cote d'Ivoire\", 'Cameroon', 'Congo, Dem. Rep.', 'Congo, Rep.', 'Colombia', 'Comoros', 'Cape Verde', 'Costa Rica', 'Cuba', 'Cyprus', 'Czech Republic', 'Germany', 'Djibouti', 'Dominica', 'Denmark', 'Dominican Republic', 'Algeria', 'Ecuador', 'Egypt', 'Eritrea', 'Spain', 'Estonia', 'Ethiopia', 'Finland', 'Fiji', 'France', 'Micronesia, Fed. Sts.', 'Gabon', 'UK', 'Georgia', 'Ghana', 'Guinea', 'Gambia', 'Guinea-Bissau', 'Equatorial Guinea', 'Greece', 'Grenada', 'Guatemala', 'Guyana', 'Hong Kong, China', 'Honduras', 'Holy See', 'Croatia', 'Haiti', 'Hungary', 'Indonesia', 'India', 'Ireland', 'Iran', 'Iraq', 'Iceland', 'Israel', 'Italy', 'Jamaica', 'Jordan', 'Japan', 'Kazakhstan', 'Kenya', 'Kyrgyz Republic', 'Cambodia', 'Kiribati', 'St. Kitts and Nevis', 'South Korea', 'Kuwait', 'Lao', 'Lebanon', 'Liberia', 'Libya', 'St. Lucia', 'Liechtenstein', 'Sri Lanka', 'Lesotho', 'Lithuania', 'Luxembourg', 'Latvia', 'Morocco', 'Monaco', 'Moldova', 'Madagascar', 'Maldives', 'Mexico', 'Marshall Islands', 'North Macedonia', 'Mali', 'Malta', 'Myanmar', 'Montenegro', 'Mongolia', 'Mozambique', 'Mauritania', 'Mauritius', 'Malawi', 'Malaysia', 'Namibia', 'Niger', 'Nigeria', 'Nicaragua', 'Netherlands', 'Norway', 'Nepal', 'Nauru', 'New Zealand', 'Oman', 'Pakistan', 'Panama', 'Peru', 'Philippines', 'Palau', 'Papua New Guinea', 'Poland', 'North Korea', 'Portugal', 'Paraguay', 'Palestine', 'Qatar', 'Romania', 'Russia', 'Rwanda', 'Saudi Arabia', 'Sudan', 'Senegal', 'Singapore', 'Solomon Islands', 'Sierra Leone', 'El Salvador', 'San Marino', 'Somalia', 'Serbia', 'South Sudan', 'Sao Tome and Principe', 'Suriname', 'Slovak Republic', 'Slovenia', 'Sweden', 'Eswatini', 'Seychelles', 'Syria', 'Chad', 'Togo', 'Thailand', 'Tajikistan', 'Turkmenistan', 'Timor-Leste', 'Tonga', 'Trinidad and Tobago', 'Tunisia', 'Turkey', 'Tuvalu', 'Taiwan', 'Tanzania', 'Uganda', 'Ukraine', 'Uruguay', 'USA', 'Uzbekistan', 'St. Vincent and the Grenadines', 'Venezuela', 'Vietnam', 'Vanuatu', 'Samoa', 'Yemen', 'South Africa', 'Zambia', 'Zimbabwe']\n",
      "197 302\n"
     ]
    }
   ],
   "source": [
    "# Import Python pandas\n",
    "import pandas as pd\n",
    "# Load the csv into a pandas dataframe\n",
    "dataset = pd.read_csv(\"child_mortality.csv\")\n",
    "# Read out all the countries within the dataset\n",
    "all_countries = dataset[\"country\"].tolist()\n",
    "print(all_countries)\n",
    "# Number of samples and key features\n",
    "print(len(dataset), len(dataset.columns))"
   ]
  },
  {
   "cell_type": "markdown",
   "id": "973473f1",
   "metadata": {},
   "source": [
    "<u> Data Collection- </u>\n",
    "\n",
    "Our dataset comes from Gapminder, a non-profit organization that aims to aid global sustainability by providing statistics and data on different parts of the world over hundreds of years. Gapminder compiled the dataset from multiple sources they deemed to be accurate and useful. Three independent sources were used for the dataset, including one from UNIGME (a collaboration by UNICEF, WHO, UN Population, and the World Bank). The first source uses data from mortality.org, a leading database on human mortality over centuries, and a series of books on historical statistics. The second and third are from world organizations like the UN, who provide estimates from ~1950 on how child mortality in all parts of the world has changed. Gapminder then combined the data sets by filling in blanks in terms of years that datasets had with the others, and by taking weighted averages of the overlap that were similar. The population of the dataset is people from around 1800 to 2100, but this highlights a potential limitation in what we can conclude from this dataset in that because it also looks to predict data in the future, it may be that the data previous to that is not 100% accurate and is also filling in gaps like it does for the future. In addition, though Gapminder compiles to their best ability, the combining of data may still cause some bias/inaccuracy to occur as the sources are different which possibly causes what we’ve noticed about empty rows for different countries. In addition, combining different sources may cause bias in that different sources include or disclude certain variables that may skew the final dataset. In fact, different countries did not exist in terms of history, where some countries were technically part of another, which makes characterizing child mortality changes for some countries possibly inaccurate as borders changed. However, because we are going by region for our question/problem, this may be mitigated. Within the dataset are 197 samples, being all countries in the world, and there are 302 key features, all being years that start from 1800 to 2100 and the country name."
   ]
  },
  {
   "cell_type": "code",
   "execution_count": 3,
   "id": "a663e7ab",
   "metadata": {},
   "outputs": [
    {
     "name": "stderr",
     "output_type": "stream",
     "text": [
      "/tmp/ipykernel_3948484/1102993399.py:10: PerformanceWarning: DataFrame is highly fragmented.  This is usually the result of calling `frame.insert` many times, which has poor performance.  Consider joining all columns at once using pd.concat(axis=1) instead. To get a de-fragmented frame, use `newframe = frame.copy()`\n",
      "  cleaned_dataset[\"Region\"] = None\n",
      "/tmp/ipykernel_3948484/1102993399.py:78: PerformanceWarning: DataFrame is highly fragmented.  This is usually the result of calling `frame.insert` many times, which has poor performance.  Consider joining all columns at once using pd.concat(axis=1) instead. To get a de-fragmented frame, use `newframe = frame.copy()`\n",
      "  cleaned_dataset[\"1800-1850\"] = cleaned_dataset.iloc[:, 1:51].mean(axis=1)\n",
      "/tmp/ipykernel_3948484/1102993399.py:79: PerformanceWarning: DataFrame is highly fragmented.  This is usually the result of calling `frame.insert` many times, which has poor performance.  Consider joining all columns at once using pd.concat(axis=1) instead. To get a de-fragmented frame, use `newframe = frame.copy()`\n",
      "  cleaned_dataset[\"1851-1900\"] = cleaned_dataset.iloc[:, 51:100].mean(axis=1)\n",
      "/tmp/ipykernel_3948484/1102993399.py:80: PerformanceWarning: DataFrame is highly fragmented.  This is usually the result of calling `frame.insert` many times, which has poor performance.  Consider joining all columns at once using pd.concat(axis=1) instead. To get a de-fragmented frame, use `newframe = frame.copy()`\n",
      "  cleaned_dataset[\"1901-1950\"] = cleaned_dataset.iloc[:, 101:150].mean(axis=1)\n",
      "/tmp/ipykernel_3948484/1102993399.py:81: PerformanceWarning: DataFrame is highly fragmented.  This is usually the result of calling `frame.insert` many times, which has poor performance.  Consider joining all columns at once using pd.concat(axis=1) instead. To get a de-fragmented frame, use `newframe = frame.copy()`\n",
      "  cleaned_dataset[\"1951-2020\"] = cleaned_dataset.iloc[:, 151:222].mean(axis=1)\n",
      "/tmp/ipykernel_3948484/1102993399.py:82: PerformanceWarning: DataFrame is highly fragmented.  This is usually the result of calling `frame.insert` many times, which has poor performance.  Consider joining all columns at once using pd.concat(axis=1) instead. To get a de-fragmented frame, use `newframe = frame.copy()`\n",
      "  cleaned_dataset[\"2021-2100\"] = cleaned_dataset.iloc[:, 223:302].mean(axis=1)\n"
     ]
    },
    {
     "data": {
      "text/html": [
       "<div>\n",
       "<style scoped>\n",
       "    .dataframe tbody tr th:only-of-type {\n",
       "        vertical-align: middle;\n",
       "    }\n",
       "\n",
       "    .dataframe tbody tr th {\n",
       "        vertical-align: top;\n",
       "    }\n",
       "\n",
       "    .dataframe thead th {\n",
       "        text-align: right;\n",
       "    }\n",
       "</style>\n",
       "<table border=\"1\" class=\"dataframe\">\n",
       "  <thead>\n",
       "    <tr style=\"text-align: right;\">\n",
       "      <th></th>\n",
       "      <th>country</th>\n",
       "      <th>1800-1850</th>\n",
       "      <th>1851-1900</th>\n",
       "      <th>1901-1950</th>\n",
       "      <th>1951-2020</th>\n",
       "      <th>2021-2100</th>\n",
       "      <th>Region</th>\n",
       "    </tr>\n",
       "  </thead>\n",
       "  <tbody>\n",
       "    <tr>\n",
       "      <th>0</th>\n",
       "      <td>Afghanistan</td>\n",
       "      <td>0.47200</td>\n",
       "      <td>0.479245</td>\n",
       "      <td>0.458143</td>\n",
       "      <td>0.219621</td>\n",
       "      <td>0.024347</td>\n",
       "      <td>10</td>\n",
       "    </tr>\n",
       "    <tr>\n",
       "      <th>1</th>\n",
       "      <td>Angola</td>\n",
       "      <td>0.48600</td>\n",
       "      <td>0.485959</td>\n",
       "      <td>0.445245</td>\n",
       "      <td>0.223870</td>\n",
       "      <td>0.032282</td>\n",
       "      <td>18</td>\n",
       "    </tr>\n",
       "    <tr>\n",
       "      <th>2</th>\n",
       "      <td>Albania</td>\n",
       "      <td>0.37500</td>\n",
       "      <td>0.375000</td>\n",
       "      <td>0.345612</td>\n",
       "      <td>0.087755</td>\n",
       "      <td>0.003989</td>\n",
       "      <td>5</td>\n",
       "    </tr>\n",
       "    <tr>\n",
       "      <th>3</th>\n",
       "      <td>UAE</td>\n",
       "      <td>0.43400</td>\n",
       "      <td>0.434000</td>\n",
       "      <td>0.409327</td>\n",
       "      <td>0.072770</td>\n",
       "      <td>0.003632</td>\n",
       "      <td>6</td>\n",
       "    </tr>\n",
       "    <tr>\n",
       "      <th>4</th>\n",
       "      <td>Argentina</td>\n",
       "      <td>0.40200</td>\n",
       "      <td>0.400714</td>\n",
       "      <td>0.193800</td>\n",
       "      <td>0.042155</td>\n",
       "      <td>0.004648</td>\n",
       "      <td>9</td>\n",
       "    </tr>\n",
       "    <tr>\n",
       "      <th>...</th>\n",
       "      <td>...</td>\n",
       "      <td>...</td>\n",
       "      <td>...</td>\n",
       "      <td>...</td>\n",
       "      <td>...</td>\n",
       "      <td>...</td>\n",
       "      <td>...</td>\n",
       "    </tr>\n",
       "    <tr>\n",
       "      <th>180</th>\n",
       "      <td>Samoa</td>\n",
       "      <td>0.39982</td>\n",
       "      <td>0.284122</td>\n",
       "      <td>0.201163</td>\n",
       "      <td>0.063711</td>\n",
       "      <td>0.006681</td>\n",
       "      <td>4</td>\n",
       "    </tr>\n",
       "    <tr>\n",
       "      <th>181</th>\n",
       "      <td>Yemen</td>\n",
       "      <td>0.54000</td>\n",
       "      <td>0.540000</td>\n",
       "      <td>0.505020</td>\n",
       "      <td>0.211394</td>\n",
       "      <td>0.026604</td>\n",
       "      <td>6</td>\n",
       "    </tr>\n",
       "    <tr>\n",
       "      <th>182</th>\n",
       "      <td>South Africa</td>\n",
       "      <td>0.39800</td>\n",
       "      <td>0.398000</td>\n",
       "      <td>0.357694</td>\n",
       "      <td>0.108531</td>\n",
       "      <td>0.016917</td>\n",
       "      <td>14</td>\n",
       "    </tr>\n",
       "    <tr>\n",
       "      <th>183</th>\n",
       "      <td>Zambia</td>\n",
       "      <td>0.41000</td>\n",
       "      <td>0.409980</td>\n",
       "      <td>0.380531</td>\n",
       "      <td>0.158418</td>\n",
       "      <td>0.023481</td>\n",
       "      <td>17</td>\n",
       "    </tr>\n",
       "    <tr>\n",
       "      <th>184</th>\n",
       "      <td>Zimbabwe</td>\n",
       "      <td>0.39600</td>\n",
       "      <td>0.396000</td>\n",
       "      <td>0.358531</td>\n",
       "      <td>0.108101</td>\n",
       "      <td>0.022784</td>\n",
       "      <td>17</td>\n",
       "    </tr>\n",
       "  </tbody>\n",
       "</table>\n",
       "<p>185 rows × 7 columns</p>\n",
       "</div>"
      ],
      "text/plain": [
       "          country  1800-1850  1851-1900  1901-1950  1951-2020  2021-2100  \\\n",
       "0     Afghanistan    0.47200   0.479245   0.458143   0.219621   0.024347   \n",
       "1          Angola    0.48600   0.485959   0.445245   0.223870   0.032282   \n",
       "2         Albania    0.37500   0.375000   0.345612   0.087755   0.003989   \n",
       "3             UAE    0.43400   0.434000   0.409327   0.072770   0.003632   \n",
       "4       Argentina    0.40200   0.400714   0.193800   0.042155   0.004648   \n",
       "..            ...        ...        ...        ...        ...        ...   \n",
       "180         Samoa    0.39982   0.284122   0.201163   0.063711   0.006681   \n",
       "181         Yemen    0.54000   0.540000   0.505020   0.211394   0.026604   \n",
       "182  South Africa    0.39800   0.398000   0.357694   0.108531   0.016917   \n",
       "183        Zambia    0.41000   0.409980   0.380531   0.158418   0.023481   \n",
       "184      Zimbabwe    0.39600   0.396000   0.358531   0.108101   0.022784   \n",
       "\n",
       "    Region  \n",
       "0       10  \n",
       "1       18  \n",
       "2        5  \n",
       "3        6  \n",
       "4        9  \n",
       "..     ...  \n",
       "180      4  \n",
       "181      6  \n",
       "182     14  \n",
       "183     17  \n",
       "184     17  \n",
       "\n",
       "[185 rows x 7 columns]"
      ]
     },
     "execution_count": 3,
     "metadata": {},
     "output_type": "execute_result"
    }
   ],
   "source": [
    "def preparer(df):\n",
    "    # Clean dataset by having any rows with empty columns removed and reset indexing\n",
    "    cleaned_dataset = df.dropna().reset_index(drop=True)\n",
    "    # Change death amount to percentage\n",
    "    for column in cleaned_dataset.columns:\n",
    "        # Skip country column\n",
    "        if column != \"country\":\n",
    "            cleaned_dataset[column] /= 1000\n",
    "    # Create an empty column for a region to be assigned to each country\n",
    "    cleaned_dataset[\"Region\"] = None\n",
    "    # Create the regions in hashsets (fast lookup time, but can be done with lists)\n",
    "    region_1 = {\"Mexico\", \"Belize\", \"Costa Rica\", \"El Salvador\", \"Guatemala\", \"Honduras\", \"Nicaragua\", \"Panama\"}\n",
    "    region_2 = {\"Algeria\", \"Egypt\", \"Libya\", \"Morocco\", \"Sudan\", \"Tunisia\"}\n",
    "    region_3 = {\"Benin\", \"Burkina Faso\", \"Cape Verde\", \"Cote d'Ivoire\", \"Gambia\", \"Ghana\", \"Guinea\", \"Guinea-Bissau\", \"Liberia\", \"Mali\", \"Mauritania\", \"Niger\", \"Nigeria\", \"Senegal\", \"Sierra Leone\", \"Togo\"}\n",
    "    region_4 = {\"Burundi\", \"Comoros\", \"Djibouti\", \"Eritrea\", \"Ethiopia\", \"Kenya\", \"Madagascar\", \"Malawi\", \"Mauritius\", \"Mozambique\", \"Rwanda\", \"Seychelles\", \"Somalia\", \"South Sudan\", \"Tanzania\", \"Uganda\", \"Zambia\", \"Zimbabwe\"}\n",
    "    region_5 = {\"Angola\", \"Cameroon\", \"Central African Republic\", \"Chad\", \"Congo, Dem. Rep.\", \"Congo, Rep.\", \"Equatorial Guinea\", \"Gabon\", \"Sao Tome and Principe\"}\n",
    "    region_6 = {\"Botswana\", \"Eswatini\", \"Lesotho\", \"Namibia\", \"South Africa\"}\n",
    "    region_7 = {\"Austria\", \"Belgium\", \"France\", \"Germany\", \"Ireland\", \"Liechtenstein\", \"Luxembourg\", \"Monaco\", \"Netherlands\", \"Switzerland\", \"UK\"}\n",
    "    region_8 = {\"Denmark\", \"Estonia\", \"Finland\", \"Iceland\", \"Latvia\", \"Lithuania\", \"Norway\", \"Sweden\"}\n",
    "    region_9 = {\"Belarus\", \"Bulgaria\", \"Czech Republic\", \"Hungary\", \"Moldova\", \"Poland\", \"Romania\", \"Russia\", \"Slovak Republic\", \"Ukraine\"}\n",
    "    region_10 = {\"Albania\", \"Andorra\", \"Bosnia and Herzegovina\", \"Croatia\", \"Cyprus\", \"Greece\", \"Italy\", \"Kosovo\", \"Malta\", \"Montenegro\", \"North Macedonia\", \"Portugal\", \"San Marino\", \"Serbia\", \"Slovenia\", \"Spain\", \"Vatican City\"}\n",
    "    region_11 = {\"Armenia\", \"Azerbaijan\", \"Bahrain\", \"Cyprus\", \"Egypt\", \"Iran\", \"Iraq\", \"Israel\", \"Jordan\", \"Kuwait\", \"Lebanon\", \"Oman\", \"Palestine\", \"Qatar\", \"Saudi Arabia\", \"Syria\", \"Turkey\", \"Georgia\", \"UAE\", \"Yemen\"}\n",
    "    region_12 = {\"Hong Kong\", \"China\", \"Japan\", \"Mongolia\", \"North Korea\", \"South Korea\", \"Taiwan\", \"Kazakhstan\", \"Kyrgyz Republic\", \"Tajikistan\", \"Turkmenistan\", \"Uzbekistan\"}\n",
    "    region_13 = {\"Afghanistan\", \"Bangladesh\", \"Bhutan\", \"India\", \"Maldives\", \"Nepal\", \"Pakistan\", \"Sri Lanka\"}\n",
    "    region_14 = {\"Vietnam\", \"Timor-Leste\", \"Lao\", \"Brunei\", \"Indonesia\", \"Malaysia\", \"Myanmar\", \"Philippines\", \"Thailand\", \"Singapore\", \"Cambodia\"}\n",
    "    region_15 = {\"Cuba\", \"Dominican Republic\", \"Haiti\", \"Jamaica\", \"Trinidad and Tobago\", \"Barbados\", \"St. Lucia\", \"St. Vincent and the Grenadines\", \"Grenada\", \"Antigua and Barbuda\", \"Saint Kitts and Nevis\", \"Dominica\", \"Bahamas\"}\n",
    "    region_16 = {\"Australia\", \"New Zealand\", \"Papua New Guinea\", \"Fiji\", \"Solomon Islands\", \"Vanuatu\", \"Samoa\", \"Tonga\", \"Kiribati\", \"Marshall Islands\", \"Palau\", \"Micronesia, Fed. Sts.\", \"Nauru\", \"Tuvalu\"}\n",
    "    region_17 = {\"Canada\", \"USA\"}\n",
    "    region_18 = {\"Argentina\", \"Bolivia\", \"Brazil\", \"Chile\", \"Colombia\", \"Ecuador\", \"Guyana\", \"Paraguay\", \"Peru\", \"Suriname\", \"Uruguay\", \"Venezuela\"}\n",
    "\n",
    "    # Iterate through each row to assign a region (based on development)\n",
    "    for i in range(len(cleaned_dataset)):\n",
    "        country = cleaned_dataset.loc[i, \"country\"]\n",
    "        if country in region_1:\n",
    "            cleaned_dataset.loc[i, \"Region\"] = 12\n",
    "        elif country in region_2:\n",
    "            cleaned_dataset.loc[i, \"Region\"] = 15\n",
    "        elif country in region_3:\n",
    "            cleaned_dataset.loc[i, \"Region\"] = 16\n",
    "        elif country in region_4:\n",
    "            cleaned_dataset.loc[i, \"Region\"] = 17\n",
    "        elif country in region_5:\n",
    "            cleaned_dataset.loc[i, \"Region\"] = 18\n",
    "        elif country in region_6:\n",
    "            cleaned_dataset.loc[i, \"Region\"] = 14\n",
    "        elif country in region_7:\n",
    "            cleaned_dataset.loc[i, \"Region\"] = 2\n",
    "        elif country in region_8:\n",
    "            cleaned_dataset.loc[i, \"Region\"] = 3\n",
    "        elif country in region_9:\n",
    "            cleaned_dataset.loc[i, \"Region\"] = 7\n",
    "        elif country in region_10:\n",
    "            cleaned_dataset.loc[i, \"Region\"] = 5\n",
    "        elif country in region_11:\n",
    "            cleaned_dataset.loc[i, \"Region\"] = 6\n",
    "        elif country in region_12:\n",
    "            cleaned_dataset.loc[i, \"Region\"] = 8\n",
    "        elif country in region_13:\n",
    "            cleaned_dataset.loc[i, \"Region\"] = 10\n",
    "        elif country in region_14:\n",
    "            cleaned_dataset.loc[i, \"Region\"] = 11\n",
    "        elif country in region_15:\n",
    "            cleaned_dataset.loc[i, \"Region\"] = 13\n",
    "        elif country in region_16:\n",
    "            cleaned_dataset.loc[i, \"Region\"] = 4\n",
    "        elif country in region_17:\n",
    "            cleaned_dataset.loc[i, \"Region\"] = 1\n",
    "        elif country in region_18:\n",
    "            cleaned_dataset.loc[i, \"Region\"] = 9\n",
    "        else:\n",
    "            print(country) # Used for debugging missing countries/regions\n",
    "            cleaned_dataset.loc[i, \"Region\"] = \"Unknown\"\n",
    "    return cleaned_dataset\n",
    "# Cleaned dataset\n",
    "final_dataset = preparer(dataset)\n",
    "# Function to create time periods\n",
    "def time_categorizer(cleaned_dataset):\n",
    "    cleaned_dataset[\"1800-1850\"] = cleaned_dataset.iloc[:, 1:51].mean(axis=1)\n",
    "    cleaned_dataset[\"1851-1900\"] = cleaned_dataset.iloc[:, 51:100].mean(axis=1)\n",
    "    cleaned_dataset[\"1901-1950\"] = cleaned_dataset.iloc[:, 101:150].mean(axis=1)\n",
    "    cleaned_dataset[\"1951-2020\"] = cleaned_dataset.iloc[:, 151:222].mean(axis=1)\n",
    "    cleaned_dataset[\"2021-2100\"] = cleaned_dataset.iloc[:, 223:302].mean(axis=1)\n",
    "    cleaned_dataset = cleaned_dataset.filter(items=[\"country\", \"1800-1850\", \"1851-1900\", \"1901-1950\", \"1951-2020\", \"2021-2100\", \"Region\"])\n",
    "    return cleaned_dataset\n",
    "final_dataset = time_categorizer(final_dataset)\n",
    "final_dataset"
   ]
  },
  {
   "cell_type": "markdown",
   "id": "1e7e2def-ced5-46f0-b524-844102f7d50f",
   "metadata": {},
   "source": [
    "<u> Data Preparation </u>\n",
    "\n",
    "When we analyzed the data set, we realized that some rows (countries) were completely blank as left by Gapminder. For data modeling and analysis later, we cleaned the data set to only have full rows which removes a few countries.  To also make the data much more efficient for model creation, we decided to create 5 time periods instead of 300 years with averages of the years within the time period for each country. The fourth time period ends at 2020 which we believed to be a good stopping point to the \"present\", and the fifth goes until 2100 which we would consider the future. We will also have each row's mortality rates as a percentage (death count / 1000) to make the mortality rate simpler for creating visualizations and models. Also, it is important for our question/problem to define regions of the world that countries are in, and so a column has been created for such. The regions are encoded with numbers (1-18) with 1 being the highest developmental score, and 18 being the lowest so any numerical analysis can be done with this column.\n",
    "\n",
    " The regions we will be exploring are Central America, North Africa, West Africa, East Africa, Central Africa, Southern Africa, Western Europe, Northern Europe, Eastern Europe, Southern Europe, Middle East, East Asia, South Asia, Southeast Asia, the Carribean, Oceania, North America (excluding Central America), and South America.\n",
    "\n",
    "- Region 1 (Central America): Mexico, Belize, Costa Rica, El Salvador, Guatemala, Honduras, Nicaragua, Panama\n",
    "- Region 2 (North Africa): Algeria, Egypt, Libya, Morocco, Sudan, Tunisia\n",
    "- Region 3 (West Africa): Benin, Burkina Faso, Cape Verde, Côte d'Ivoire (Ivory Coast), Gambia, Ghana, Guinea, Guinea-Bissau, Liberia, Mali, Mauritania, Niger, Nigeria, Senegal, Sierra Leone, Togo\n",
    "- Region 4 (East Africa): Burundi, Comoros, Djibouti, Eritrea, Ethiopia, Kenya, Madagascar, Malawi, Mauritius, Mozambique, Rwanda, Seychelles, Somalia, South Sudan, Tanzania, Uganda, Zambia, Zimbabwe\n",
    "- Region 5 (Central Africa): Angola, Cameroon, Central African Republic, Chad, Democratic Republic of the Congo, Republic of the Congo, Equatorial Guinea, Gabon, São Tomé and Príncipe\n",
    "- Region 6 (Southern Africa): Botswana, Eswatini (Swaziland), Lesotho, Namibia, South Africa\n",
    "- Region 7 (Western Europe): Austria, Belgium, France, Germany, Ireland, Liechtenstein, Luxembourg, Monaco, Netherlands, Switzerland, United Kingdom\n",
    "- Region 8 (Northern Europe): Denmark, Estonia, Finland, Iceland, Latvia, Lithuania, Norway, Sweden\n",
    "- Region 9 (Eastern Europe): Belarus, Bulgaria, Czech Republic, Hungary, Moldova, Poland, Romania, Russia, Slovakia, Ukraine\n",
    "- Region 10 (Southern Europe): Albania, Andorra, Bosnia and Herzegovina, Croatia, Cyprus, Greece, Italy, Kosovo, Malta, Montenegro, North Macedonia, Portugal, San Marino, Serbia, Slovenia, Spain, Vatican City\n",
    "- Region 11 (Middle East): Armenia, Azerbaijan, Bahrain, Cyprus, Egypt, Iran, Iraq, Israel, Jordan, Kuwait, Lebanon, Oman, Palestine, Qatar, Saudi Arabia, Syria, Turkey, Georgia, United Arab Emirates, Yemen\n",
    "- Region 12 (East Asia): Hong Kong, China, Japan, Mongolia, North Korea, South Korea, Taiwan, Kazakhstan, Kyrgyzstan, Tajikistan, Turkmenistan, Uzbekistan\n",
    "- Region 13 (South Asia): Afghanistan, Bangladesh, Bhutan, India, Maldives, Nepal, Pakistan, Sri Lanka.\n",
    "- Region 14 (Southeast Asia): Vietnam, Timor-Leste, Lao, Brunei, Indonesia, Malaysia, Myanmar, Phillipines, Thailand, Singapore, Cambodia.\n",
    "- Region 15 (Carribean): Cuba, Dominican Republic, Haiti, Jamaica, Trinidad and Tobago, Barbados, Saint Lucia, Saint Vincent and the Grenadines, Grenada, Antigua and Barbuda, Saint Kitts and Nevis, Dominica, Bahamas\n",
    "- Region 16 (Oceania): Australia, New Zealand, Papua New Guinea, Fiji, Solomon Islands, Vanuatu, Samoa, Tonga, Kiribati, Marshall Islands, Palau, Micronesia, Nauru, Tuvalu\n",
    "- Region 17 (North America excluding Central America): Canada & United States\n",
    "- Region 18 (South America): Argentina, Bolivia, Brazil, Chile, Colombia, Ecuador, Guyana, Paraguay, Peru, Suriname, Uruguay, Venezuela\n",
    "\n",
    "We created preparer() and time_categorizer() functions to take in a dataframe, in this case being our child_mortality.csv, and have both of them do all of the data preparation previously described."
   ]
  },
  {
   "cell_type": "markdown",
   "id": "1cd0aa7e-82a6-4704-9bca-89882591118b",
   "metadata": {},
   "source": [
    "<u> Data Exploration </u>\n",
    "\n",
    "First Data Visualization (Scatterplot)"
   ]
  },
  {
   "cell_type": "code",
   "execution_count": 4,
   "id": "bed8e5b9",
   "metadata": {},
   "outputs": [],
   "source": [
    "import seaborn as sns\n",
    "import matplotlib.pyplot as plt"
   ]
  },
  {
   "cell_type": "code",
   "execution_count": 5,
   "id": "f58fdb01",
   "metadata": {},
   "outputs": [
    {
     "name": "stdout",
     "output_type": "stream",
     "text": [
      "SUMMARY STATISTICS FOR EACH TIME PERIOD CHRONOLOGICALLY\n",
      "Means: 0.41667037837837834 0.39820148924434645 0.323458444567016 0.0977259878188047\n",
      "Medians: 0.41700000000000026 0.4139591836734695 0.36144897959183675 0.0799605633802817\n",
      "Ranges: 0.27091999999999944 0.44141836734693873 0.4396693877551021 0.2677932394366198\n",
      "Standard Deviations: 0.04948426271979069 0.07574255276136799 0.10517585660107932 0.06926981905569905\n",
      "IQRs: 0.06410000000000021 0.07897959183673459 0.16710204081632654 0.1108181690140846\n"
     ]
    },
    {
     "data": {
      "image/png": "[encoded data removed]",
      "text/plain": [
       "<Figure size 640x480 with 1 Axes>"
      ]
     },
     "metadata": {},
     "output_type": "display_data"
    }
   ],
   "source": [
    "time_periods = final_dataset.drop(columns=[\"2021-2100\", \"Region\"])\n",
    "sns.boxplot(data=time_periods)\n",
    "plt.title(\"Child Mortality Rates (per 1000 births) by Period\", fontsize=16)\n",
    "plt.xlabel(\"Period\", fontsize=14)\n",
    "plt.ylabel(\"Average Mortality Rates\", fontsize=14)\n",
    "# Summary Statistics\n",
    "print(\"SUMMARY STATISTICS FOR EACH TIME PERIOD CHRONOLOGICALLY\")\n",
    "def summary_statistics(time_periods):\n",
    "    mean1 = time_periods[\"1800-1850\"].mean()\n",
    "    mean2 = time_periods[\"1851-1900\"].mean()\n",
    "    mean3 = time_periods[\"1901-1950\"].mean()\n",
    "    mean4 = time_periods[\"1951-2020\"].mean()\n",
    "    print(\"Means:\", mean1, mean2, mean3, mean4)\n",
    "    median1 = time_periods[\"1800-1850\"].median()\n",
    "    median2 = time_periods[\"1851-1900\"].median()\n",
    "    median3 = time_periods[\"1901-1950\"].median()\n",
    "    median4 = time_periods[\"1951-2020\"].median()\n",
    "    print(\"Medians:\", median1, median2, median3, median4)\n",
    "    range1 = time_periods[\"1800-1850\"].max() - time_periods[\"1800-1850\"].min()\n",
    "    range2 = time_periods[\"1851-1900\"].max() - time_periods[\"1851-1900\"].min()\n",
    "    range3 = time_periods[\"1901-1950\"].max() - time_periods[\"1901-1950\"].min()\n",
    "    range4 = time_periods[\"1951-2020\"].max() - time_periods[\"1951-2020\"].min()\n",
    "    print(\"Ranges:\", range1, range2, range3, range4)\n",
    "    std1 = time_periods[\"1800-1850\"].std()\n",
    "    std2 = time_periods[\"1851-1900\"].std()\n",
    "    std3 = time_periods[\"1901-1950\"].std()\n",
    "    std4 = time_periods[\"1951-2020\"].std()\n",
    "    print(\"Standard Deviations:\", std1, std2, std3, std4)\n",
    "    IQR1 = time_periods[\"1800-1850\"].quantile(0.75) - time_periods[\"1800-1850\"].quantile(0.25)\n",
    "    IQR2 = time_periods[\"1851-1900\"].quantile(0.75) - time_periods[\"1851-1900\"].quantile(0.25)\n",
    "    IQR3 = time_periods[\"1901-1950\"].quantile(0.75) - time_periods[\"1901-1950\"].quantile(0.25)\n",
    "    IQR4 = time_periods[\"1951-2020\"].quantile(0.75) - time_periods[\"1951-2020\"].quantile(0.25)\n",
    "    print(\"IQRs:\", IQR1, IQR2, IQR3, IQR4)\n",
    "summary_statistics(time_periods)"
   ]
  },
  {
   "cell_type": "markdown",
   "id": "9509a44f-8327-44ef-af39-7229757a62fb",
   "metadata": {},
   "source": [
    "As part of exploring the data to understand trends, distribution, and correlations, we first created a scatterplot to see how mortality rates were distributed across all the countries over four different time periods (from 1800 to the present). We took the mean of each country over each period, and created four columns for each period. By taking the different central and dispersion measures of each period, we can explore how child mortality across countries are different and generally over time. Right away, we noticed that the median and mean average mortality rates decreased as time periods reached closer to the present. In addition, the mean and medians are pretty similar, especially from 1800-1850, where the boxplot appears to show a perfectly symmetrical data disribution. For the more recent time periods, there are clear outliers, like where from 1901-1950, there are more outlier countries that have very low mortality rates than there are outlier countries with very high mortality rates. The statistics and boxplot indicate that more recent periods have more skewed data, where some countries appear to do much better than others. This prompted us to think much about the fact that some regions in the world are more developed, in terms of sanitation, healthcare, and other developmental aspects. This helped us inform our model choice to be a linear regression model, as we saw a correlation with lower mortality rates and time, and a correlation with how certain countries skew the distribution due to potential developmental inequalities. We believed a multiple linear regression model could help predict future mortality rates based on region and time."
   ]
  },
  {
   "cell_type": "markdown",
   "id": "f02c5da3-6a40-4c5e-aa61-95e594e4840a",
   "metadata": {},
   "source": [
    "<u> **Model Building** </u>\n",
    "\n",
    "The question we are investigating is the effect time period and region of the world a country is in has on the child mortality rates of the country. We have chosen to create a multiple linear regression model because we want to be able to hopefully accurately predict how being in certain regions of the world in accordance to time period changes a country's child mortality rate. When exploring the data, time period seemed to negatively correlate with child mortality, and it appeared that as time increased, more and more outliers would appear, indicating that there may be regional inequality within the data. Also, child mortality is a numerical, continuous variable which is well-aligned for a linear regression model. A linear regression model works by taking one or more predictor variables to create a linear equation that utilizes the predictor variables to predict a target variable. In our model, we will be using the time period columns and region column (five total predictor variables), and child mortality rate for the future (one target variable). Using Python's sklearn module, we can import an empty linear regression model that can be used to fit our predictor and target variables. The code below will have documentation for the process (sampling, filtering, and fitting)."
   ]
  },
  {
   "cell_type": "code",
   "execution_count": 6,
   "id": "1e6a5819-defb-4044-8dba-0cbd449d7a3f",
   "metadata": {},
   "outputs": [],
   "source": [
    "# Import linear regression model from sklearn\n",
    "from sklearn.linear_model import LinearRegression\n",
    "# sampler() function to take samples for train and test data for predictor and target variables\n",
    "def sampler(df):\n",
    "    train = df.sample(frac=0.8)\n",
    "    test = df.drop(index=train.index)\n",
    "    # Filter predictor and target variables from train and test\n",
    "    X_train = train.drop(columns=[\"2021-2100\", \"country\", \"Region\"])\n",
    "    y_train = train.filter(items=[\"2021-2100\"])\n",
    "    X_test = test.drop(columns=[\"2021-2100\", \"country\", \"Region\"])\n",
    "    y_test = test.filter(items=[\"2021-2100\"])\n",
    "    return [X_train, y_train, X_test, y_test]\n",
    "X_y_test_train = sampler(final_dataset)"
   ]
  },
  {
   "cell_type": "code",
   "execution_count": 7,
   "id": "8e027a2a-3af8-4321-af93-de1106e3cc2d",
   "metadata": {},
   "outputs": [
    {
     "name": "stdout",
     "output_type": "stream",
     "text": [
      "0.5654040197595611\n"
     ]
    }
   ],
   "source": [
    "# model_creator() function to create the linear model with data\n",
    "def model_creator(X_train, y_train, X_test, y_test):\n",
    "    # Create an empty linear regression model\n",
    "    lr = LinearRegression(fit_intercept=False)\n",
    "    # Fit the data\n",
    "    lr.fit(X_train, y_train)\n",
    "    # Return the R^2 by using the test data\n",
    "    return lr.score(X_test, y_test)\n",
    "\n",
    "print(model_creator(X_y_test_train[0], X_y_test_train[1], X_y_test_train[2], X_y_test_train[3]))"
   ]
  },
  {
   "cell_type": "markdown",
   "id": "f9ff9b8a-2573-4b1b-93a0-4eacc6432262",
   "metadata": {},
   "source": [
    "Our hypothesis indicated that there is a strong correlation between time + region and the mortality rate of a country. In order to evaluate a linear regression model, the <i> coefficient of determination </i>, or R^2, describes the measurement of fit that the linear equation has with the data sampled. This coefficient varies from 0 to 1 inclusive, and the closer it is to 1, the more perfectly the linear equation describes the data. In order to test the fit of the model, we use the test data (20% sampled that was not used for the model) to test the accuracy of the model. More often than not, the coefficient of determination is > 0.6, indicating statistical significance. However, it is important to realize that the model's accuracy may be lower than it should logically be because of the nature of the data. The child mortality rates under the time periods are extremely specific (ex. 423 vs. 425) which means that while not extremely precise, the model can give a general outlook into what can be predicted for coming years in terms of child mortality rates for different countries."
   ]
  },
  {
   "cell_type": "markdown",
   "id": "d556b742-b913-4f95-a4ba-ab2e9bfc3f32",
   "metadata": {},
   "source": [
    "<u> Below is a scatterplot visualization of 100 random samples of the data taken in which the model is built and its coefficient of determination is taken. </u>"
   ]
  },
  {
   "cell_type": "code",
   "execution_count": 8,
   "id": "7748dcd4-e2ed-4ff1-8c9e-e01bda42b4dc",
   "metadata": {},
   "outputs": [
    {
     "data": {
      "text/plain": [
       "Text(0, 0.5, 'Coefficient of Determination')"
      ]
     },
     "execution_count": 8,
     "metadata": {},
     "output_type": "execute_result"
    },
    {
     "data": {
      "image/png": "[encoded data removed]",
      "text/plain": [
       "<Figure size 640x480 with 1 Axes>"
      ]
     },
     "metadata": {},
     "output_type": "display_data"
    }
   ],
   "source": [
    "# Create a dataframe of coefficients of determination\n",
    "coef_df = {\"CoD\" : []}\n",
    "for _ in range(100):\n",
    "    train_test_data = sampler(final_dataset)\n",
    "    coef_df[\"CoD\"].append(model_creator(train_test_data[0], train_test_data[1], train_test_data[2], train_test_data[3]))\n",
    "sns.boxplot(data=coef_df)\n",
    "plt.title(\"Spread of Coefficient of Determination\", fontsize=16)\n",
    "plt.ylabel(\"Coefficient of Determination\", fontsize=14)"
   ]
  },
  {
   "cell_type": "markdown",
   "id": "f4eefdd0-92ca-4027-a9a2-ebd7e7014db7",
   "metadata": {},
   "source": [
    "The model's coefficient of determination created using the predictor variables more often than not is > 0.6 "
   ]
  }
 ],
 "metadata": {
  "kernelspec": {
   "display_name": "Python 3 (ipykernel)",
   "language": "python",
   "name": "python3"
  },
  "language_info": {
   "codemirror_mode": {
    "name": "ipython",
    "version": 3
   },
   "file_extension": ".py",
   "mimetype": "text/x-python",
   "name": "python",
   "nbconvert_exporter": "python",
   "pygments_lexer": "ipython3",
   "version": "3.10.10"
  }
 },
 "nbformat": 4,
 "nbformat_minor": 5
}
