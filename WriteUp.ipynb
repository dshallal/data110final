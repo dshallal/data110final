{
 "cells": [
  {
   "cell_type": "code",
   "execution_count": 1,
   "id": "d2f1086d-03e2-4195-9543-706f9875b5fb",
   "metadata": {},
   "outputs": [
    {
     "name": "stdout",
     "output_type": "stream",
     "text": [
      "Notebook already signed: FinalProject.ipynb\n"
     ]
    }
   ],
   "source": [
    "!jupyter trust FinalProject.ipynb"
   ]
  },
  {
   "cell_type": "markdown",
   "id": "b5939f38-6598-4fd6-85c3-0a72b12c1af4",
   "metadata": {},
   "source": [
    "## <u> DATA 110 Final Project Write Up </u>\n",
    "## Group Members: Dan Shallal, Daniel Wang, Devarshi Dave, & Michael Gaines\n",
    "## Dataset: Track B Dataset: Child Mortality of 0-5 Year Olds per 1000 born"
   ]
  },
  {
   "cell_type": "markdown",
   "id": "e37b6bba-17bc-412c-8da5-b29e737d822a",
   "metadata": {},
   "source": [
    "<u> Defining the problem- </u>\n",
    "\n",
    "After choosing the track B, we <i> initially </i> reasoned that the data set could ask a vaguer question in “How do child mortality rates fluctuate between various countries and over time?”. We chose this dataset from track B because we were interested in understanding how child mortality rates differ between different countries and whether there is an underlying factor that accurately predicts how child mortality rates differ between countries. Disease, lack of nutrition, limited healthcare, and other internal and external issues that have plagued how children grow physically. We sincerely believe that our project can investigate the current situation of each region of the world, in terms of whether their child mortality rates have changed, in what ways the rates have changed, and how each region compares to others in order to recognize potential inequalities that need to be addressed. After our first data visualization created and the feedback given to our group from the project proposal, we decided to make our question more specific, being, \"Have different regions in the world developed equally in combating child mortality rates over time?\"."
   ]
  },
  {
   "cell_type": "code",
   "execution_count": null,
   "id": "72b7ae95-731b-47db-8123-1aae4efafd78",
   "metadata": {},
   "outputs": [],
   "source": []
  }
 ],
 "metadata": {
  "kernelspec": {
   "display_name": "Python 3 (ipykernel)",
   "language": "python",
   "name": "python3"
  },
  "language_info": {
   "codemirror_mode": {
    "name": "ipython",
    "version": 3
   },
   "file_extension": ".py",
   "mimetype": "text/x-python",
   "name": "python",
   "nbconvert_exporter": "python",
   "pygments_lexer": "ipython3",
   "version": "3.10.10"
  }
 },
 "nbformat": 4,
 "nbformat_minor": 5
}
